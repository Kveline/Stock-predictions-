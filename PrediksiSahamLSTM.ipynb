{
  "nbformat": 4,
  "nbformat_minor": 0,
  "metadata": {
    "colab": {
      "name": "PrediksiSahamLSTM.ipynb",
      "provenance": [],
      "collapsed_sections": [],
      "toc_visible": true
    },
    "kernelspec": {
      "name": "python3",
      "display_name": "Python 3"
    },
    "language_info": {
      "name": "python"
    }
  },
  "cells": [
    {
      "cell_type": "markdown",
      "metadata": {
        "id": "RtzHlDb7yTOt"
      },
      "source": [
        "## Import Library"
      ]
    },
    {
      "cell_type": "code",
      "metadata": {
        "colab": {
          "base_uri": "https://localhost:8080/"
        },
        "id": "W-9cTdqqyLJJ",
        "outputId": "50dbcf58-ffb3-4bfe-c2c0-ff9dd5513432"
      },
      "source": [
        "import numpy as np\n",
        "import matplotlib.pyplot as plt \n",
        "import pandas as pd \n",
        "from pandas import datetime \n",
        "import math, time \n",
        "import itertools\n",
        "from sklearn import preprocessing \n",
        "import datetime \n",
        "from operator import itemgetter \n",
        "from sklearn.metrics import mean_squared_error\n",
        "from math import sqrt \n",
        "from keras.models import Sequential \n",
        "from keras.layers.core import Dense, Dropout, Activation"
      ],
      "execution_count": 84,
      "outputs": [
        {
          "output_type": "stream",
          "text": [
            "/usr/local/lib/python3.7/dist-packages/ipykernel_launcher.py:4: FutureWarning: The pandas.datetime class is deprecated and will be removed from pandas in a future version. Import from datetime module instead.\n",
            "  after removing the cwd from sys.path.\n"
          ],
          "name": "stderr"
        }
      ]
    },
    {
      "cell_type": "code",
      "metadata": {
        "id": "D4oWKj0V2VtQ"
      },
      "source": [
        "from keras.layers.recurrent import LSTM"
      ],
      "execution_count": 85,
      "outputs": []
    },
    {
      "cell_type": "code",
      "metadata": {
        "id": "rOupfR4U2XY6"
      },
      "source": [
        "from keras.models import load_model"
      ],
      "execution_count": 86,
      "outputs": []
    },
    {
      "cell_type": "code",
      "metadata": {
        "id": "W7Mv9GbJ2abM"
      },
      "source": [
        "import h5py\n",
        "import requests \n",
        "import os"
      ],
      "execution_count": 87,
      "outputs": []
    },
    {
      "cell_type": "markdown",
      "metadata": {
        "id": "WINf59rDylUc"
      },
      "source": [
        "## Dataset"
      ]
    },
    {
      "cell_type": "code",
      "metadata": {
        "colab": {
          "base_uri": "https://localhost:8080/",
          "height": 202
        },
        "id": "NitK6k0a2jse",
        "outputId": "b6d46a4d-94cb-4068-bd61-55fe2263a836"
      },
      "source": [
        "dataset = pd.read_csv(\"ADRO.csv\")\n",
        "dataset.head()"
      ],
      "execution_count": 88,
      "outputs": [
        {
          "output_type": "execute_result",
          "data": {
            "text/html": [
              "<div>\n",
              "<style scoped>\n",
              "    .dataframe tbody tr th:only-of-type {\n",
              "        vertical-align: middle;\n",
              "    }\n",
              "\n",
              "    .dataframe tbody tr th {\n",
              "        vertical-align: top;\n",
              "    }\n",
              "\n",
              "    .dataframe thead th {\n",
              "        text-align: right;\n",
              "    }\n",
              "</style>\n",
              "<table border=\"1\" class=\"dataframe\">\n",
              "  <thead>\n",
              "    <tr style=\"text-align: right;\">\n",
              "      <th></th>\n",
              "      <th>date</th>\n",
              "      <th>open</th>\n",
              "      <th>low</th>\n",
              "      <th>high</th>\n",
              "      <th>volume</th>\n",
              "      <th>close</th>\n",
              "    </tr>\n",
              "  </thead>\n",
              "  <tbody>\n",
              "    <tr>\n",
              "      <th>0</th>\n",
              "      <td>2019-07-29T00:00:00</td>\n",
              "      <td>1220</td>\n",
              "      <td>1220</td>\n",
              "      <td>1255</td>\n",
              "      <td>16327200</td>\n",
              "      <td>1255</td>\n",
              "    </tr>\n",
              "    <tr>\n",
              "      <th>1</th>\n",
              "      <td>2019-07-30T00:00:00</td>\n",
              "      <td>1255</td>\n",
              "      <td>1245</td>\n",
              "      <td>1295</td>\n",
              "      <td>20044900</td>\n",
              "      <td>1295</td>\n",
              "    </tr>\n",
              "    <tr>\n",
              "      <th>2</th>\n",
              "      <td>2019-07-31T00:00:00</td>\n",
              "      <td>1280</td>\n",
              "      <td>1260</td>\n",
              "      <td>1285</td>\n",
              "      <td>44371900</td>\n",
              "      <td>1270</td>\n",
              "    </tr>\n",
              "    <tr>\n",
              "      <th>3</th>\n",
              "      <td>2019-08-01T00:00:00</td>\n",
              "      <td>1270</td>\n",
              "      <td>1215</td>\n",
              "      <td>1275</td>\n",
              "      <td>49309700</td>\n",
              "      <td>1225</td>\n",
              "    </tr>\n",
              "    <tr>\n",
              "      <th>4</th>\n",
              "      <td>2019-08-02T00:00:00</td>\n",
              "      <td>1220</td>\n",
              "      <td>1165</td>\n",
              "      <td>1220</td>\n",
              "      <td>65053800</td>\n",
              "      <td>1175</td>\n",
              "    </tr>\n",
              "  </tbody>\n",
              "</table>\n",
              "</div>"
            ],
            "text/plain": [
              "                  date  open   low  high    volume  close\n",
              "0  2019-07-29T00:00:00  1220  1220  1255  16327200   1255\n",
              "1  2019-07-30T00:00:00  1255  1245  1295  20044900   1295\n",
              "2  2019-07-31T00:00:00  1280  1260  1285  44371900   1270\n",
              "3  2019-08-01T00:00:00  1270  1215  1275  49309700   1225\n",
              "4  2019-08-02T00:00:00  1220  1165  1220  65053800   1175"
            ]
          },
          "metadata": {
            "tags": []
          },
          "execution_count": 88
        }
      ]
    },
    {
      "cell_type": "markdown",
      "metadata": {
        "id": "RUqtDLYe3Zns"
      },
      "source": [
        "## Normalisasi Data\n"
      ]
    },
    {
      "cell_type": "code",
      "metadata": {
        "colab": {
          "base_uri": "https://localhost:8080/",
          "height": 202
        },
        "id": "SxFLsMaY3bav",
        "outputId": "3d624bbd-b0b9-40de-d87f-c3fa426d2921"
      },
      "source": [
        "min_max_scaler = preprocessing.MinMaxScaler()\n",
        "dataset['open'] = min_max_scaler.fit_transform(dataset.open.values.reshape(-1,1))\n",
        "dataset['high'] = min_max_scaler.fit_transform(dataset.high.values.reshape(-1,1))\n",
        "dataset['low'] = min_max_scaler.fit_transform(dataset.low.values.reshape(-1,1))\n",
        "dataset['volume'] = min_max_scaler.fit_transform(dataset.volume.values.reshape(-1,1))\n",
        "dataset['close'] = min_max_scaler.fit_transform(dataset['close'].values.reshape(-1,1))\n",
        "\n",
        "dataset.head()"
      ],
      "execution_count": 89,
      "outputs": [
        {
          "output_type": "execute_result",
          "data": {
            "text/html": [
              "<div>\n",
              "<style scoped>\n",
              "    .dataframe tbody tr th:only-of-type {\n",
              "        vertical-align: middle;\n",
              "    }\n",
              "\n",
              "    .dataframe tbody tr th {\n",
              "        vertical-align: top;\n",
              "    }\n",
              "\n",
              "    .dataframe thead th {\n",
              "        text-align: right;\n",
              "    }\n",
              "</style>\n",
              "<table border=\"1\" class=\"dataframe\">\n",
              "  <thead>\n",
              "    <tr style=\"text-align: right;\">\n",
              "      <th></th>\n",
              "      <th>date</th>\n",
              "      <th>open</th>\n",
              "      <th>low</th>\n",
              "      <th>high</th>\n",
              "      <th>volume</th>\n",
              "      <th>close</th>\n",
              "    </tr>\n",
              "  </thead>\n",
              "  <tbody>\n",
              "    <tr>\n",
              "      <th>0</th>\n",
              "      <td>2019-07-29T00:00:00</td>\n",
              "      <td>0.734940</td>\n",
              "      <td>0.619289</td>\n",
              "      <td>0.559809</td>\n",
              "      <td>0.008887</td>\n",
              "      <td>0.603960</td>\n",
              "    </tr>\n",
              "    <tr>\n",
              "      <th>1</th>\n",
              "      <td>2019-07-30T00:00:00</td>\n",
              "      <td>0.756024</td>\n",
              "      <td>0.644670</td>\n",
              "      <td>0.598086</td>\n",
              "      <td>0.017329</td>\n",
              "      <td>0.643564</td>\n",
              "    </tr>\n",
              "    <tr>\n",
              "      <th>2</th>\n",
              "      <td>2019-07-31T00:00:00</td>\n",
              "      <td>0.771084</td>\n",
              "      <td>0.659898</td>\n",
              "      <td>0.588517</td>\n",
              "      <td>0.072570</td>\n",
              "      <td>0.618812</td>\n",
              "    </tr>\n",
              "    <tr>\n",
              "      <th>3</th>\n",
              "      <td>2019-08-01T00:00:00</td>\n",
              "      <td>0.765060</td>\n",
              "      <td>0.614213</td>\n",
              "      <td>0.578947</td>\n",
              "      <td>0.083782</td>\n",
              "      <td>0.574257</td>\n",
              "    </tr>\n",
              "    <tr>\n",
              "      <th>4</th>\n",
              "      <td>2019-08-02T00:00:00</td>\n",
              "      <td>0.734940</td>\n",
              "      <td>0.563452</td>\n",
              "      <td>0.526316</td>\n",
              "      <td>0.119533</td>\n",
              "      <td>0.524752</td>\n",
              "    </tr>\n",
              "  </tbody>\n",
              "</table>\n",
              "</div>"
            ],
            "text/plain": [
              "                  date      open       low      high    volume     close\n",
              "0  2019-07-29T00:00:00  0.734940  0.619289  0.559809  0.008887  0.603960\n",
              "1  2019-07-30T00:00:00  0.756024  0.644670  0.598086  0.017329  0.643564\n",
              "2  2019-07-31T00:00:00  0.771084  0.659898  0.588517  0.072570  0.618812\n",
              "3  2019-08-01T00:00:00  0.765060  0.614213  0.578947  0.083782  0.574257\n",
              "4  2019-08-02T00:00:00  0.734940  0.563452  0.526316  0.119533  0.524752"
            ]
          },
          "metadata": {
            "tags": []
          },
          "execution_count": 89
        }
      ]
    },
    {
      "cell_type": "code",
      "metadata": {
        "id": "5aCYQEcu56XG"
      },
      "source": [
        "X = dataset.iloc[:, 1:-1].values\n",
        "y = dataset.iloc[:, -1].values"
      ],
      "execution_count": 90,
      "outputs": []
    },
    {
      "cell_type": "markdown",
      "metadata": {
        "id": "SAKoThUf59yB"
      },
      "source": [
        "## Splitting Dataset"
      ]
    },
    {
      "cell_type": "code",
      "metadata": {
        "id": "SfycB1vU6BYm"
      },
      "source": [
        "from sklearn.model_selection import train_test_split\n",
        "X_train, X_test, y_train, y_test = train_test_split(X, y, test_size = 0.20, random_state = 2)"
      ],
      "execution_count": 91,
      "outputs": []
    },
    {
      "cell_type": "code",
      "metadata": {
        "id": "erTrTpP394Cx"
      },
      "source": [
        "X_train, X_test, y_train, y_test = np.array(X_train), np.array(X_test) ,np.array(y_train), np.array(y_test)\n",
        "X_train = np.reshape(X_train, (X_train.shape[0], X_train.shape[1], 1))\n",
        "X_test = np.reshape(X_test, (X_test.shape[0], X_test.shape[1], 1))"
      ],
      "execution_count": 92,
      "outputs": []
    },
    {
      "cell_type": "markdown",
      "metadata": {
        "id": "MBHJ8fWc6UrA"
      },
      "source": [
        "## Model LTSM"
      ]
    },
    {
      "cell_type": "code",
      "metadata": {
        "id": "LA7teqd16XMl"
      },
      "source": [
        "#Build the model\n",
        "model=Sequential()\n",
        "model.add(LSTM(units=50,return_sequences=True,input_shape=(X_train.shape[1],1)))\n",
        "model.add(LSTM(units=50))\n",
        "model.add(Dense(1))\n",
        "\n",
        "model.compile(loss='mean_squared_error',optimizer='adam')\n",
        "#Reshape data for (Sample,Timestep,Features) \n",
        "X_train = X_train.reshape((X_train.shape[0],X_train.shape[1],1))\n",
        "X_test = X_test.reshape((X_test.shape[0],X_test.shape[1],1))"
      ],
      "execution_count": 93,
      "outputs": []
    },
    {
      "cell_type": "markdown",
      "metadata": {
        "id": "39ztR_Uj7Jpp"
      },
      "source": [
        "## Training"
      ]
    },
    {
      "cell_type": "code",
      "metadata": {
        "colab": {
          "base_uri": "https://localhost:8080/"
        },
        "id": "hkjf3Bxi7LRB",
        "outputId": "d7deba04-5d7a-4458-b209-97f5fd5ded67"
      },
      "source": [
        "#Fit model with history to check for overfitting\n",
        "history = model.fit(X_train,y_train,epochs=200,validation_data=(X_test,y_test),shuffle=False)\n",
        " \n",
        "model.summary() "
      ],
      "execution_count": 94,
      "outputs": [
        {
          "output_type": "stream",
          "text": [
            "Epoch 1/200\n",
            "11/11 [==============================] - 5s 94ms/step - loss: 0.2794 - val_loss: 0.1051\n",
            "Epoch 2/200\n",
            "11/11 [==============================] - 0s 11ms/step - loss: 0.0652 - val_loss: 0.0170\n",
            "Epoch 3/200\n",
            "11/11 [==============================] - 0s 12ms/step - loss: 0.0224 - val_loss: 0.0054\n",
            "Epoch 4/200\n",
            "11/11 [==============================] - 0s 11ms/step - loss: 0.0081 - val_loss: 0.0076\n",
            "Epoch 5/200\n",
            "11/11 [==============================] - 0s 12ms/step - loss: 0.0073 - val_loss: 0.0062\n",
            "Epoch 6/200\n",
            "11/11 [==============================] - 0s 11ms/step - loss: 0.0069 - val_loss: 0.0050\n",
            "Epoch 7/200\n",
            "11/11 [==============================] - 0s 12ms/step - loss: 0.0060 - val_loss: 0.0048\n",
            "Epoch 8/200\n",
            "11/11 [==============================] - 0s 11ms/step - loss: 0.0057 - val_loss: 0.0047\n",
            "Epoch 9/200\n",
            "11/11 [==============================] - 0s 11ms/step - loss: 0.0056 - val_loss: 0.0045\n",
            "Epoch 10/200\n",
            "11/11 [==============================] - 0s 12ms/step - loss: 0.0054 - val_loss: 0.0044\n",
            "Epoch 11/200\n",
            "11/11 [==============================] - 0s 11ms/step - loss: 0.0053 - val_loss: 0.0043\n",
            "Epoch 12/200\n",
            "11/11 [==============================] - 0s 11ms/step - loss: 0.0052 - val_loss: 0.0042\n",
            "Epoch 13/200\n",
            "11/11 [==============================] - 0s 12ms/step - loss: 0.0051 - val_loss: 0.0041\n",
            "Epoch 14/200\n",
            "11/11 [==============================] - 0s 11ms/step - loss: 0.0050 - val_loss: 0.0041\n",
            "Epoch 15/200\n",
            "11/11 [==============================] - 0s 12ms/step - loss: 0.0050 - val_loss: 0.0040\n",
            "Epoch 16/200\n",
            "11/11 [==============================] - 0s 11ms/step - loss: 0.0049 - val_loss: 0.0040\n",
            "Epoch 17/200\n",
            "11/11 [==============================] - 0s 11ms/step - loss: 0.0049 - val_loss: 0.0039\n",
            "Epoch 18/200\n",
            "11/11 [==============================] - 0s 11ms/step - loss: 0.0048 - val_loss: 0.0039\n",
            "Epoch 19/200\n",
            "11/11 [==============================] - 0s 11ms/step - loss: 0.0048 - val_loss: 0.0038\n",
            "Epoch 20/200\n",
            "11/11 [==============================] - 0s 11ms/step - loss: 0.0047 - val_loss: 0.0038\n",
            "Epoch 21/200\n",
            "11/11 [==============================] - 0s 11ms/step - loss: 0.0047 - val_loss: 0.0038\n",
            "Epoch 22/200\n",
            "11/11 [==============================] - 0s 11ms/step - loss: 0.0046 - val_loss: 0.0037\n",
            "Epoch 23/200\n",
            "11/11 [==============================] - 0s 11ms/step - loss: 0.0046 - val_loss: 0.0037\n",
            "Epoch 24/200\n",
            "11/11 [==============================] - 0s 11ms/step - loss: 0.0045 - val_loss: 0.0036\n",
            "Epoch 25/200\n",
            "11/11 [==============================] - 0s 12ms/step - loss: 0.0045 - val_loss: 0.0036\n",
            "Epoch 26/200\n",
            "11/11 [==============================] - 0s 11ms/step - loss: 0.0044 - val_loss: 0.0036\n",
            "Epoch 27/200\n",
            "11/11 [==============================] - 0s 12ms/step - loss: 0.0044 - val_loss: 0.0035\n",
            "Epoch 28/200\n",
            "11/11 [==============================] - 0s 11ms/step - loss: 0.0043 - val_loss: 0.0035\n",
            "Epoch 29/200\n",
            "11/11 [==============================] - 0s 12ms/step - loss: 0.0043 - val_loss: 0.0034\n",
            "Epoch 30/200\n",
            "11/11 [==============================] - 0s 11ms/step - loss: 0.0042 - val_loss: 0.0034\n",
            "Epoch 31/200\n",
            "11/11 [==============================] - 0s 11ms/step - loss: 0.0042 - val_loss: 0.0033\n",
            "Epoch 32/200\n",
            "11/11 [==============================] - 0s 11ms/step - loss: 0.0041 - val_loss: 0.0033\n",
            "Epoch 33/200\n",
            "11/11 [==============================] - 0s 12ms/step - loss: 0.0041 - val_loss: 0.0032\n",
            "Epoch 34/200\n",
            "11/11 [==============================] - 0s 12ms/step - loss: 0.0040 - val_loss: 0.0032\n",
            "Epoch 35/200\n",
            "11/11 [==============================] - 0s 11ms/step - loss: 0.0040 - val_loss: 0.0031\n",
            "Epoch 36/200\n",
            "11/11 [==============================] - 0s 11ms/step - loss: 0.0039 - val_loss: 0.0031\n",
            "Epoch 37/200\n",
            "11/11 [==============================] - 0s 11ms/step - loss: 0.0038 - val_loss: 0.0030\n",
            "Epoch 38/200\n",
            "11/11 [==============================] - 0s 11ms/step - loss: 0.0038 - val_loss: 0.0030\n",
            "Epoch 39/200\n",
            "11/11 [==============================] - 0s 11ms/step - loss: 0.0037 - val_loss: 0.0029\n",
            "Epoch 40/200\n",
            "11/11 [==============================] - 0s 11ms/step - loss: 0.0036 - val_loss: 0.0029\n",
            "Epoch 41/200\n",
            "11/11 [==============================] - 0s 11ms/step - loss: 0.0035 - val_loss: 0.0028\n",
            "Epoch 42/200\n",
            "11/11 [==============================] - 0s 11ms/step - loss: 0.0034 - val_loss: 0.0028\n",
            "Epoch 43/200\n",
            "11/11 [==============================] - 0s 12ms/step - loss: 0.0033 - val_loss: 0.0028\n",
            "Epoch 44/200\n",
            "11/11 [==============================] - 0s 13ms/step - loss: 0.0032 - val_loss: 0.0028\n",
            "Epoch 45/200\n",
            "11/11 [==============================] - 0s 12ms/step - loss: 0.0031 - val_loss: 0.0026\n",
            "Epoch 46/200\n",
            "11/11 [==============================] - 0s 11ms/step - loss: 0.0030 - val_loss: 0.0025\n",
            "Epoch 47/200\n",
            "11/11 [==============================] - 0s 11ms/step - loss: 0.0028 - val_loss: 0.0023\n",
            "Epoch 48/200\n",
            "11/11 [==============================] - 0s 11ms/step - loss: 0.0026 - val_loss: 0.0023\n",
            "Epoch 49/200\n",
            "11/11 [==============================] - 0s 11ms/step - loss: 0.0025 - val_loss: 0.0022\n",
            "Epoch 50/200\n",
            "11/11 [==============================] - 0s 11ms/step - loss: 0.0024 - val_loss: 0.0022\n",
            "Epoch 51/200\n",
            "11/11 [==============================] - 0s 11ms/step - loss: 0.0023 - val_loss: 0.0022\n",
            "Epoch 52/200\n",
            "11/11 [==============================] - 0s 11ms/step - loss: 0.0022 - val_loss: 0.0021\n",
            "Epoch 53/200\n",
            "11/11 [==============================] - 0s 12ms/step - loss: 0.0021 - val_loss: 0.0021\n",
            "Epoch 54/200\n",
            "11/11 [==============================] - 0s 12ms/step - loss: 0.0021 - val_loss: 0.0021\n",
            "Epoch 55/200\n",
            "11/11 [==============================] - 0s 13ms/step - loss: 0.0020 - val_loss: 0.0021\n",
            "Epoch 56/200\n",
            "11/11 [==============================] - 0s 11ms/step - loss: 0.0019 - val_loss: 0.0020\n",
            "Epoch 57/200\n",
            "11/11 [==============================] - 0s 11ms/step - loss: 0.0019 - val_loss: 0.0020\n",
            "Epoch 58/200\n",
            "11/11 [==============================] - 0s 11ms/step - loss: 0.0018 - val_loss: 0.0020\n",
            "Epoch 59/200\n",
            "11/11 [==============================] - 0s 11ms/step - loss: 0.0018 - val_loss: 0.0019\n",
            "Epoch 60/200\n",
            "11/11 [==============================] - 0s 11ms/step - loss: 0.0017 - val_loss: 0.0019\n",
            "Epoch 61/200\n",
            "11/11 [==============================] - 0s 12ms/step - loss: 0.0017 - val_loss: 0.0018\n",
            "Epoch 62/200\n",
            "11/11 [==============================] - 0s 11ms/step - loss: 0.0016 - val_loss: 0.0018\n",
            "Epoch 63/200\n",
            "11/11 [==============================] - 0s 11ms/step - loss: 0.0016 - val_loss: 0.0017\n",
            "Epoch 64/200\n",
            "11/11 [==============================] - 0s 11ms/step - loss: 0.0016 - val_loss: 0.0017\n",
            "Epoch 65/200\n",
            "11/11 [==============================] - 0s 12ms/step - loss: 0.0015 - val_loss: 0.0016\n",
            "Epoch 66/200\n",
            "11/11 [==============================] - 0s 13ms/step - loss: 0.0015 - val_loss: 0.0016\n",
            "Epoch 67/200\n",
            "11/11 [==============================] - 0s 11ms/step - loss: 0.0014 - val_loss: 0.0016\n",
            "Epoch 68/200\n",
            "11/11 [==============================] - 0s 12ms/step - loss: 0.0014 - val_loss: 0.0015\n",
            "Epoch 69/200\n",
            "11/11 [==============================] - 0s 12ms/step - loss: 0.0014 - val_loss: 0.0015\n",
            "Epoch 70/200\n",
            "11/11 [==============================] - 0s 11ms/step - loss: 0.0013 - val_loss: 0.0014\n",
            "Epoch 71/200\n",
            "11/11 [==============================] - 0s 12ms/step - loss: 0.0013 - val_loss: 0.0014\n",
            "Epoch 72/200\n",
            "11/11 [==============================] - 0s 11ms/step - loss: 0.0013 - val_loss: 0.0014\n",
            "Epoch 73/200\n",
            "11/11 [==============================] - 0s 11ms/step - loss: 0.0012 - val_loss: 0.0013\n",
            "Epoch 74/200\n",
            "11/11 [==============================] - 0s 11ms/step - loss: 0.0012 - val_loss: 0.0013\n",
            "Epoch 75/200\n",
            "11/11 [==============================] - 0s 10ms/step - loss: 0.0012 - val_loss: 0.0012\n",
            "Epoch 76/200\n",
            "11/11 [==============================] - 0s 11ms/step - loss: 0.0011 - val_loss: 0.0012\n",
            "Epoch 77/200\n",
            "11/11 [==============================] - 0s 13ms/step - loss: 0.0011 - val_loss: 0.0012\n",
            "Epoch 78/200\n",
            "11/11 [==============================] - 0s 11ms/step - loss: 0.0011 - val_loss: 0.0011\n",
            "Epoch 79/200\n",
            "11/11 [==============================] - 0s 11ms/step - loss: 0.0010 - val_loss: 0.0011\n",
            "Epoch 80/200\n",
            "11/11 [==============================] - 0s 11ms/step - loss: 0.0010 - val_loss: 0.0011\n",
            "Epoch 81/200\n",
            "11/11 [==============================] - 0s 11ms/step - loss: 9.8134e-04 - val_loss: 0.0010\n",
            "Epoch 82/200\n",
            "11/11 [==============================] - 0s 13ms/step - loss: 9.5565e-04 - val_loss: 0.0010\n",
            "Epoch 83/200\n",
            "11/11 [==============================] - 0s 10ms/step - loss: 9.3078e-04 - val_loss: 9.8966e-04\n",
            "Epoch 84/200\n",
            "11/11 [==============================] - 0s 11ms/step - loss: 9.0669e-04 - val_loss: 9.6145e-04\n",
            "Epoch 85/200\n",
            "11/11 [==============================] - 0s 12ms/step - loss: 8.8337e-04 - val_loss: 9.3407e-04\n",
            "Epoch 86/200\n",
            "11/11 [==============================] - 0s 11ms/step - loss: 8.6083e-04 - val_loss: 9.0753e-04\n",
            "Epoch 87/200\n",
            "11/11 [==============================] - 0s 11ms/step - loss: 8.3904e-04 - val_loss: 8.8184e-04\n",
            "Epoch 88/200\n",
            "11/11 [==============================] - 0s 10ms/step - loss: 8.1800e-04 - val_loss: 8.5700e-04\n",
            "Epoch 89/200\n",
            "11/11 [==============================] - 0s 12ms/step - loss: 7.9771e-04 - val_loss: 8.3301e-04\n",
            "Epoch 90/200\n",
            "11/11 [==============================] - 0s 12ms/step - loss: 7.7814e-04 - val_loss: 8.0988e-04\n",
            "Epoch 91/200\n",
            "11/11 [==============================] - 0s 11ms/step - loss: 7.5930e-04 - val_loss: 7.8761e-04\n",
            "Epoch 92/200\n",
            "11/11 [==============================] - 0s 12ms/step - loss: 7.4117e-04 - val_loss: 7.6618e-04\n",
            "Epoch 93/200\n",
            "11/11 [==============================] - 0s 12ms/step - loss: 7.2373e-04 - val_loss: 7.4560e-04\n",
            "Epoch 94/200\n",
            "11/11 [==============================] - 0s 11ms/step - loss: 7.0699e-04 - val_loss: 7.2585e-04\n",
            "Epoch 95/200\n",
            "11/11 [==============================] - 0s 11ms/step - loss: 6.9092e-04 - val_loss: 7.0694e-04\n",
            "Epoch 96/200\n",
            "11/11 [==============================] - 0s 12ms/step - loss: 6.7552e-04 - val_loss: 6.8883e-04\n",
            "Epoch 97/200\n",
            "11/11 [==============================] - 0s 11ms/step - loss: 6.6076e-04 - val_loss: 6.7152e-04\n",
            "Epoch 98/200\n",
            "11/11 [==============================] - 0s 11ms/step - loss: 6.4664e-04 - val_loss: 6.5500e-04\n",
            "Epoch 99/200\n",
            "11/11 [==============================] - 0s 11ms/step - loss: 6.3314e-04 - val_loss: 6.3925e-04\n",
            "Epoch 100/200\n",
            "11/11 [==============================] - 0s 11ms/step - loss: 6.2024e-04 - val_loss: 6.2424e-04\n",
            "Epoch 101/200\n",
            "11/11 [==============================] - 0s 12ms/step - loss: 6.0793e-04 - val_loss: 6.0996e-04\n",
            "Epoch 102/200\n",
            "11/11 [==============================] - 0s 11ms/step - loss: 5.9618e-04 - val_loss: 5.9639e-04\n",
            "Epoch 103/200\n",
            "11/11 [==============================] - 0s 12ms/step - loss: 5.8499e-04 - val_loss: 5.8350e-04\n",
            "Epoch 104/200\n",
            "11/11 [==============================] - 0s 11ms/step - loss: 5.7433e-04 - val_loss: 5.7128e-04\n",
            "Epoch 105/200\n",
            "11/11 [==============================] - 0s 11ms/step - loss: 5.6418e-04 - val_loss: 5.5969e-04\n",
            "Epoch 106/200\n",
            "11/11 [==============================] - 0s 11ms/step - loss: 5.5454e-04 - val_loss: 5.4872e-04\n",
            "Epoch 107/200\n",
            "11/11 [==============================] - 0s 11ms/step - loss: 5.4537e-04 - val_loss: 5.3835e-04\n",
            "Epoch 108/200\n",
            "11/11 [==============================] - 0s 12ms/step - loss: 5.3666e-04 - val_loss: 5.2854e-04\n",
            "Epoch 109/200\n",
            "11/11 [==============================] - 0s 13ms/step - loss: 5.2840e-04 - val_loss: 5.1927e-04\n",
            "Epoch 110/200\n",
            "11/11 [==============================] - 0s 13ms/step - loss: 5.2056e-04 - val_loss: 5.1053e-04\n",
            "Epoch 111/200\n",
            "11/11 [==============================] - 0s 11ms/step - loss: 5.1313e-04 - val_loss: 5.0228e-04\n",
            "Epoch 112/200\n",
            "11/11 [==============================] - 0s 12ms/step - loss: 5.0608e-04 - val_loss: 4.9451e-04\n",
            "Epoch 113/200\n",
            "11/11 [==============================] - 0s 12ms/step - loss: 4.9941e-04 - val_loss: 4.8719e-04\n",
            "Epoch 114/200\n",
            "11/11 [==============================] - 0s 11ms/step - loss: 4.9309e-04 - val_loss: 4.8029e-04\n",
            "Epoch 115/200\n",
            "11/11 [==============================] - 0s 12ms/step - loss: 4.8710e-04 - val_loss: 4.7380e-04\n",
            "Epoch 116/200\n",
            "11/11 [==============================] - 0s 11ms/step - loss: 4.8144e-04 - val_loss: 4.6770e-04\n",
            "Epoch 117/200\n",
            "11/11 [==============================] - 0s 11ms/step - loss: 4.7608e-04 - val_loss: 4.6196e-04\n",
            "Epoch 118/200\n",
            "11/11 [==============================] - 0s 11ms/step - loss: 4.7101e-04 - val_loss: 4.5656e-04\n",
            "Epoch 119/200\n",
            "11/11 [==============================] - 0s 11ms/step - loss: 4.6621e-04 - val_loss: 4.5149e-04\n",
            "Epoch 120/200\n",
            "11/11 [==============================] - 0s 11ms/step - loss: 4.6166e-04 - val_loss: 4.4672e-04\n",
            "Epoch 121/200\n",
            "11/11 [==============================] - 0s 11ms/step - loss: 4.5737e-04 - val_loss: 4.4224e-04\n",
            "Epoch 122/200\n",
            "11/11 [==============================] - 0s 11ms/step - loss: 4.5330e-04 - val_loss: 4.3803e-04\n",
            "Epoch 123/200\n",
            "11/11 [==============================] - 0s 11ms/step - loss: 4.4945e-04 - val_loss: 4.3407e-04\n",
            "Epoch 124/200\n",
            "11/11 [==============================] - 0s 11ms/step - loss: 4.4580e-04 - val_loss: 4.3035e-04\n",
            "Epoch 125/200\n",
            "11/11 [==============================] - 0s 12ms/step - loss: 4.4235e-04 - val_loss: 4.2686e-04\n",
            "Epoch 126/200\n",
            "11/11 [==============================] - 0s 12ms/step - loss: 4.3908e-04 - val_loss: 4.2357e-04\n",
            "Epoch 127/200\n",
            "11/11 [==============================] - 0s 11ms/step - loss: 4.3599e-04 - val_loss: 4.2049e-04\n",
            "Epoch 128/200\n",
            "11/11 [==============================] - 0s 11ms/step - loss: 4.3305e-04 - val_loss: 4.1758e-04\n",
            "Epoch 129/200\n",
            "11/11 [==============================] - 0s 11ms/step - loss: 4.3027e-04 - val_loss: 4.1485e-04\n",
            "Epoch 130/200\n",
            "11/11 [==============================] - 0s 11ms/step - loss: 4.2762e-04 - val_loss: 4.1229e-04\n",
            "Epoch 131/200\n",
            "11/11 [==============================] - 0s 12ms/step - loss: 4.2512e-04 - val_loss: 4.0987e-04\n",
            "Epoch 132/200\n",
            "11/11 [==============================] - 0s 11ms/step - loss: 4.2273e-04 - val_loss: 4.0759e-04\n",
            "Epoch 133/200\n",
            "11/11 [==============================] - 0s 12ms/step - loss: 4.2047e-04 - val_loss: 4.0545e-04\n",
            "Epoch 134/200\n",
            "11/11 [==============================] - 0s 11ms/step - loss: 4.1832e-04 - val_loss: 4.0343e-04\n",
            "Epoch 135/200\n",
            "11/11 [==============================] - 0s 12ms/step - loss: 4.1627e-04 - val_loss: 4.0153e-04\n",
            "Epoch 136/200\n",
            "11/11 [==============================] - 0s 12ms/step - loss: 4.1432e-04 - val_loss: 3.9973e-04\n",
            "Epoch 137/200\n",
            "11/11 [==============================] - 0s 11ms/step - loss: 4.1247e-04 - val_loss: 3.9804e-04\n",
            "Epoch 138/200\n",
            "11/11 [==============================] - 0s 11ms/step - loss: 4.1070e-04 - val_loss: 3.9644e-04\n",
            "Epoch 139/200\n",
            "11/11 [==============================] - 0s 12ms/step - loss: 4.0901e-04 - val_loss: 3.9493e-04\n",
            "Epoch 140/200\n",
            "11/11 [==============================] - 0s 12ms/step - loss: 4.0740e-04 - val_loss: 3.9351e-04\n",
            "Epoch 141/200\n",
            "11/11 [==============================] - 0s 11ms/step - loss: 4.0586e-04 - val_loss: 3.9217e-04\n",
            "Epoch 142/200\n",
            "11/11 [==============================] - 0s 12ms/step - loss: 4.0440e-04 - val_loss: 3.9090e-04\n",
            "Epoch 143/200\n",
            "11/11 [==============================] - 0s 11ms/step - loss: 4.0299e-04 - val_loss: 3.8970e-04\n",
            "Epoch 144/200\n",
            "11/11 [==============================] - 0s 13ms/step - loss: 4.0165e-04 - val_loss: 3.8856e-04\n",
            "Epoch 145/200\n",
            "11/11 [==============================] - 0s 13ms/step - loss: 4.0036e-04 - val_loss: 3.8748e-04\n",
            "Epoch 146/200\n",
            "11/11 [==============================] - 0s 11ms/step - loss: 3.9913e-04 - val_loss: 3.8646e-04\n",
            "Epoch 147/200\n",
            "11/11 [==============================] - 0s 11ms/step - loss: 3.9795e-04 - val_loss: 3.8550e-04\n",
            "Epoch 148/200\n",
            "11/11 [==============================] - 0s 13ms/step - loss: 3.9681e-04 - val_loss: 3.8459e-04\n",
            "Epoch 149/200\n",
            "11/11 [==============================] - 0s 11ms/step - loss: 3.9573e-04 - val_loss: 3.8372e-04\n",
            "Epoch 150/200\n",
            "11/11 [==============================] - 0s 11ms/step - loss: 3.9468e-04 - val_loss: 3.8291e-04\n",
            "Epoch 151/200\n",
            "11/11 [==============================] - 0s 12ms/step - loss: 3.9368e-04 - val_loss: 3.8213e-04\n",
            "Epoch 152/200\n",
            "11/11 [==============================] - 0s 12ms/step - loss: 3.9272e-04 - val_loss: 3.8140e-04\n",
            "Epoch 153/200\n",
            "11/11 [==============================] - 0s 11ms/step - loss: 3.9179e-04 - val_loss: 3.8070e-04\n",
            "Epoch 154/200\n",
            "11/11 [==============================] - 0s 11ms/step - loss: 3.9090e-04 - val_loss: 3.8004e-04\n",
            "Epoch 155/200\n",
            "11/11 [==============================] - 0s 11ms/step - loss: 3.9005e-04 - val_loss: 3.7941e-04\n",
            "Epoch 156/200\n",
            "11/11 [==============================] - 0s 12ms/step - loss: 3.8922e-04 - val_loss: 3.7882e-04\n",
            "Epoch 157/200\n",
            "11/11 [==============================] - 0s 11ms/step - loss: 3.8842e-04 - val_loss: 3.7826e-04\n",
            "Epoch 158/200\n",
            "11/11 [==============================] - 0s 11ms/step - loss: 3.8766e-04 - val_loss: 3.7772e-04\n",
            "Epoch 159/200\n",
            "11/11 [==============================] - 0s 11ms/step - loss: 3.8692e-04 - val_loss: 3.7722e-04\n",
            "Epoch 160/200\n",
            "11/11 [==============================] - 0s 13ms/step - loss: 3.8620e-04 - val_loss: 3.7674e-04\n",
            "Epoch 161/200\n",
            "11/11 [==============================] - 0s 11ms/step - loss: 3.8551e-04 - val_loss: 3.7628e-04\n",
            "Epoch 162/200\n",
            "11/11 [==============================] - 0s 12ms/step - loss: 3.8485e-04 - val_loss: 3.7585e-04\n",
            "Epoch 163/200\n",
            "11/11 [==============================] - 0s 11ms/step - loss: 3.8421e-04 - val_loss: 3.7544e-04\n",
            "Epoch 164/200\n",
            "11/11 [==============================] - 0s 13ms/step - loss: 3.8358e-04 - val_loss: 3.7505e-04\n",
            "Epoch 165/200\n",
            "11/11 [==============================] - 0s 11ms/step - loss: 3.8298e-04 - val_loss: 3.7469e-04\n",
            "Epoch 166/200\n",
            "11/11 [==============================] - 0s 11ms/step - loss: 3.8240e-04 - val_loss: 3.7434e-04\n",
            "Epoch 167/200\n",
            "11/11 [==============================] - 0s 11ms/step - loss: 3.8184e-04 - val_loss: 3.7401e-04\n",
            "Epoch 168/200\n",
            "11/11 [==============================] - 0s 11ms/step - loss: 3.8129e-04 - val_loss: 3.7370e-04\n",
            "Epoch 169/200\n",
            "11/11 [==============================] - 0s 11ms/step - loss: 3.8076e-04 - val_loss: 3.7340e-04\n",
            "Epoch 170/200\n",
            "11/11 [==============================] - 0s 11ms/step - loss: 3.8025e-04 - val_loss: 3.7312e-04\n",
            "Epoch 171/200\n",
            "11/11 [==============================] - 0s 11ms/step - loss: 3.7975e-04 - val_loss: 3.7285e-04\n",
            "Epoch 172/200\n",
            "11/11 [==============================] - 0s 11ms/step - loss: 3.7927e-04 - val_loss: 3.7260e-04\n",
            "Epoch 173/200\n",
            "11/11 [==============================] - 0s 11ms/step - loss: 3.7880e-04 - val_loss: 3.7236e-04\n",
            "Epoch 174/200\n",
            "11/11 [==============================] - 0s 11ms/step - loss: 3.7834e-04 - val_loss: 3.7213e-04\n",
            "Epoch 175/200\n",
            "11/11 [==============================] - 0s 13ms/step - loss: 3.7790e-04 - val_loss: 3.7192e-04\n",
            "Epoch 176/200\n",
            "11/11 [==============================] - 0s 12ms/step - loss: 3.7747e-04 - val_loss: 3.7171e-04\n",
            "Epoch 177/200\n",
            "11/11 [==============================] - 0s 11ms/step - loss: 3.7705e-04 - val_loss: 3.7152e-04\n",
            "Epoch 178/200\n",
            "11/11 [==============================] - 0s 11ms/step - loss: 3.7664e-04 - val_loss: 3.7134e-04\n",
            "Epoch 179/200\n",
            "11/11 [==============================] - 0s 12ms/step - loss: 3.7625e-04 - val_loss: 3.7117e-04\n",
            "Epoch 180/200\n",
            "11/11 [==============================] - 0s 11ms/step - loss: 3.7586e-04 - val_loss: 3.7100e-04\n",
            "Epoch 181/200\n",
            "11/11 [==============================] - 0s 11ms/step - loss: 3.7548e-04 - val_loss: 3.7085e-04\n",
            "Epoch 182/200\n",
            "11/11 [==============================] - 0s 12ms/step - loss: 3.7511e-04 - val_loss: 3.7070e-04\n",
            "Epoch 183/200\n",
            "11/11 [==============================] - 0s 11ms/step - loss: 3.7475e-04 - val_loss: 3.7057e-04\n",
            "Epoch 184/200\n",
            "11/11 [==============================] - 0s 11ms/step - loss: 3.7440e-04 - val_loss: 3.7044e-04\n",
            "Epoch 185/200\n",
            "11/11 [==============================] - 0s 11ms/step - loss: 3.7406e-04 - val_loss: 3.7031e-04\n",
            "Epoch 186/200\n",
            "11/11 [==============================] - 0s 13ms/step - loss: 3.7372e-04 - val_loss: 3.7020e-04\n",
            "Epoch 187/200\n",
            "11/11 [==============================] - 0s 13ms/step - loss: 3.7339e-04 - val_loss: 3.7009e-04\n",
            "Epoch 188/200\n",
            "11/11 [==============================] - 0s 11ms/step - loss: 3.7307e-04 - val_loss: 3.6998e-04\n",
            "Epoch 189/200\n",
            "11/11 [==============================] - 0s 12ms/step - loss: 3.7276e-04 - val_loss: 3.6988e-04\n",
            "Epoch 190/200\n",
            "11/11 [==============================] - 0s 12ms/step - loss: 3.7245e-04 - val_loss: 3.6979e-04\n",
            "Epoch 191/200\n",
            "11/11 [==============================] - 0s 11ms/step - loss: 3.7215e-04 - val_loss: 3.6970e-04\n",
            "Epoch 192/200\n",
            "11/11 [==============================] - 0s 11ms/step - loss: 3.7185e-04 - val_loss: 3.6961e-04\n",
            "Epoch 193/200\n",
            "11/11 [==============================] - 0s 11ms/step - loss: 3.7156e-04 - val_loss: 3.6954e-04\n",
            "Epoch 194/200\n",
            "11/11 [==============================] - 0s 11ms/step - loss: 3.7128e-04 - val_loss: 3.6946e-04\n",
            "Epoch 195/200\n",
            "11/11 [==============================] - 0s 12ms/step - loss: 3.7099e-04 - val_loss: 3.6939e-04\n",
            "Epoch 196/200\n",
            "11/11 [==============================] - 0s 12ms/step - loss: 3.7072e-04 - val_loss: 3.6932e-04\n",
            "Epoch 197/200\n",
            "11/11 [==============================] - 0s 11ms/step - loss: 3.7045e-04 - val_loss: 3.6925e-04\n",
            "Epoch 198/200\n",
            "11/11 [==============================] - 0s 12ms/step - loss: 3.7018e-04 - val_loss: 3.6919e-04\n",
            "Epoch 199/200\n",
            "11/11 [==============================] - 0s 11ms/step - loss: 3.6992e-04 - val_loss: 3.6913e-04\n",
            "Epoch 200/200\n",
            "11/11 [==============================] - 0s 12ms/step - loss: 3.6966e-04 - val_loss: 3.6908e-04\n",
            "Model: \"sequential_21\"\n",
            "_________________________________________________________________\n",
            "Layer (type)                 Output Shape              Param #   \n",
            "=================================================================\n",
            "lstm_23 (LSTM)               (None, 4, 50)             10400     \n",
            "_________________________________________________________________\n",
            "lstm_24 (LSTM)               (None, 50)                20200     \n",
            "_________________________________________________________________\n",
            "dense_12 (Dense)             (None, 1)                 51        \n",
            "=================================================================\n",
            "Total params: 30,651\n",
            "Trainable params: 30,651\n",
            "Non-trainable params: 0\n",
            "_________________________________________________________________\n"
          ],
          "name": "stdout"
        }
      ]
    },
    {
      "cell_type": "code",
      "metadata": {
        "id": "6CXEGtU3-0zV",
        "colab": {
          "base_uri": "https://localhost:8080/"
        },
        "outputId": "5c1f14fa-a098-43fa-c75a-39dcfeddf153"
      },
      "source": [
        "predictions = model.predict(X_test)\n",
        "predictions = min_max_scaler.inverse_transform(predictions)\n",
        "actual = np.array([y_test])\n",
        "actual = min_max_scaler.inverse_transform(actual)\n",
        "actual = np.reshape(actual, (actual.shape[0], actual.shape[1], 1))\n",
        "print(actual[0])"
      ],
      "execution_count": 95,
      "outputs": [
        {
          "output_type": "stream",
          "text": [
            "WARNING:tensorflow:5 out of the last 13 calls to <function Model.make_predict_function.<locals>.predict_function at 0x7f561e7f5320> triggered tf.function retracing. Tracing is expensive and the excessive number of tracings could be due to (1) creating @tf.function repeatedly in a loop, (2) passing tensors with different shapes, (3) passing Python objects instead of tensors. For (1), please define your @tf.function outside of the loop. For (2), @tf.function has experimental_relax_shapes=True option that relaxes argument shapes that can avoid unnecessary retracing. For (3), please refer to https://www.tensorflow.org/guide/function#controlling_retracing and https://www.tensorflow.org/api_docs/python/tf/function for  more details.\n",
            "[[1210.]\n",
            " [1230.]\n",
            " [1185.]\n",
            " [1205.]\n",
            " [ 875.]\n",
            " [1115.]\n",
            " [ 905.]\n",
            " [1150.]\n",
            " [1160.]\n",
            " [1140.]\n",
            " [1410.]\n",
            " [1120.]\n",
            " [1120.]\n",
            " [1000.]\n",
            " [1285.]\n",
            " [1185.]\n",
            " [1160.]\n",
            " [1030.]\n",
            " [1185.]\n",
            " [1110.]\n",
            " [1270.]\n",
            " [1020.]\n",
            " [1140.]\n",
            " [1470.]\n",
            " [1180.]\n",
            " [1320.]\n",
            " [1095.]\n",
            " [1560.]\n",
            " [1160.]\n",
            " [1165.]\n",
            " [1210.]\n",
            " [1085.]\n",
            " [1335.]\n",
            " [1135.]\n",
            " [1545.]\n",
            " [ 925.]\n",
            " [ 775.]\n",
            " [1050.]\n",
            " [1220.]\n",
            " [1470.]\n",
            " [1240.]\n",
            " [ 890.]\n",
            " [1305.]\n",
            " [1270.]\n",
            " [1155.]\n",
            " [1535.]\n",
            " [1195.]\n",
            " [1205.]\n",
            " [1175.]\n",
            " [1470.]\n",
            " [1040.]\n",
            " [1165.]\n",
            " [1130.]\n",
            " [1035.]\n",
            " [1225.]\n",
            " [1295.]\n",
            " [1260.]\n",
            " [1125.]\n",
            " [1445.]\n",
            " [1475.]\n",
            " [1495.]\n",
            " [1040.]\n",
            " [1105.]\n",
            " [1180.]\n",
            " [1145.]\n",
            " [1335.]\n",
            " [1150.]\n",
            " [1085.]\n",
            " [1200.]\n",
            " [1260.]\n",
            " [1545.]\n",
            " [1180.]\n",
            " [ 745.]\n",
            " [1005.]\n",
            " [1125.]\n",
            " [1050.]\n",
            " [1555.]\n",
            " [ 900.]\n",
            " [1230.]\n",
            " [1515.]\n",
            " [1130.]\n",
            " [1480.]\n",
            " [1175.]\n",
            " [1130.]\n",
            " [1495.]\n",
            " [ 885.]\n",
            " [1280.]\n",
            " [1405.]]\n"
          ],
          "name": "stdout"
        }
      ]
    },
    {
      "cell_type": "markdown",
      "metadata": {
        "id": "MfmseRfPjZxj"
      },
      "source": [
        "## Evaluasi"
      ]
    },
    {
      "cell_type": "code",
      "metadata": {
        "colab": {
          "base_uri": "https://localhost:8080/"
        },
        "id": "r3HuHkp1jbAG",
        "outputId": "b8032171-1243-4bd4-f6b8-ff72baf0380d"
      },
      "source": [
        "rms = mean_squared_error(actual[0], predictions, squared=False)\n",
        "rms"
      ],
      "execution_count": 96,
      "outputs": [
        {
          "output_type": "execute_result",
          "data": {
            "text/plain": [
              "19.403532346947074"
            ]
          },
          "metadata": {
            "tags": []
          },
          "execution_count": 96
        }
      ]
    },
    {
      "cell_type": "markdown",
      "metadata": {
        "id": "RhiVHj8mjzXI"
      },
      "source": [
        "## Plotting"
      ]
    },
    {
      "cell_type": "code",
      "metadata": {
        "colab": {
          "base_uri": "https://localhost:8080/",
          "height": 367
        },
        "id": "ZH2iubh_j0_i",
        "outputId": "5cb382c1-5d59-489b-dbf2-08e0b553697a"
      },
      "source": [
        "plt.figure(figsize=(10,5))\n",
        "plt.plot(actual[0],'red',label='Real Prices')\n",
        "plt.plot(predictions,'blue',label='Predicted Prices')\n",
        "plt.xlabel('Time')\n",
        "plt.ylabel('Prices')\n",
        "plt.title('Real vs Predicted Prices')\n",
        "plt.legend(loc='best', fontsize=10)"
      ],
      "execution_count": 97,
      "outputs": [
        {
          "output_type": "execute_result",
          "data": {
            "text/plain": [
              "<matplotlib.legend.Legend at 0x7f561dcbcf10>"
            ]
          },
          "metadata": {
            "tags": []
          },
          "execution_count": 97
        },
        {
          "output_type": "display_data",
          "data": {
            "image/png": "[encoded data removed]",
            "text/plain": [
              "<Figure size 720x360 with 1 Axes>"
            ]
          },
          "metadata": {
            "tags": [],
            "needs_background": "light"
          }
        }
      ]
    }
  ]
}